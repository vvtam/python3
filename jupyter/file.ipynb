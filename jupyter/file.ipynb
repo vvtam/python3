{
 "cells": [
  {
   "cell_type": "code",
   "execution_count": 4,
   "metadata": {},
   "outputs": [],
   "source": [
    "f = open(\"example-file-2.txt\", \"w+\")\n",
    "for i in range(10):\n",
    "    f.write(\"This is line %d\\r\" % (i+1))\n",
    "f.close()"
   ]
  },
  {
   "cell_type": "code",
   "execution_count": 5,
   "metadata": {},
   "outputs": [],
   "source": [
    "f = open(\"example-file-2.txt\", \"a+\")\n",
    "for i in range(2):\n",
    "     f.write(\"Appended line %d\\r\\n\" % (i+1))\n",
    "f.close()"
   ]
  },
  {
   "cell_type": "code",
   "execution_count": 7,
   "metadata": {},
   "outputs": [
    {
     "name": "stdout",
     "output_type": "stream",
     "text": [
      "test\n",
      "test2\n",
      "test3\n"
     ]
    }
   ],
   "source": [
    "f = open(\"example-file.txt\", \"r\")\n",
    "contents = f.read()\n",
    "print(contents)"
   ]
  },
  {
   "cell_type": "code",
   "execution_count": 8,
   "metadata": {},
   "outputs": [
    {
     "name": "stdout",
     "output_type": "stream",
     "text": [
      "test\n",
      "\n",
      "test2\n",
      "\n",
      "test3\n"
     ]
    }
   ],
   "source": [
    "f = open(\"example-file.txt\", \"r\")\n",
    "fl = f.readlines()\n",
    "for x in fl:\n",
    "    print(x)"
   ]
  },
  {
   "cell_type": "code",
   "execution_count": 9,
   "metadata": {},
   "outputs": [
    {
     "name": "stdout",
     "output_type": "stream",
     "text": [
      "t\n",
      "e\n",
      "s\n",
      "t\n",
      "\n",
      "\n"
     ]
    }
   ],
   "source": [
    "f = open(\"example-file.txt\", \"r\")\n",
    "fl = f.readline()\n",
    "for x in fl:\n",
    "    print(x)"
   ]
  },
  {
   "cell_type": "code",
   "execution_count": null,
   "metadata": {},
   "outputs": [],
   "source": []
  }
 ],
 "metadata": {
  "kernelspec": {
   "display_name": "Python 3",
   "language": "python",
   "name": "python3"
  },
  "language_info": {
   "codemirror_mode": {
    "name": "ipython",
    "version": 3
   },
   "file_extension": ".py",
   "mimetype": "text/x-python",
   "name": "python",
   "nbconvert_exporter": "python",
   "pygments_lexer": "ipython3",
   "version": "3.7.6"
  }
 },
 "nbformat": 4,
 "nbformat_minor": 4
}
