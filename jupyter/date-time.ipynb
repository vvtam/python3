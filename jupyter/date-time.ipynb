{
 "cells": [
  {
   "cell_type": "code",
   "execution_count": 15,
   "metadata": {},
   "outputs": [
    {
     "name": "stdout",
     "output_type": "stream",
     "text": [
      "today's date is 2020-06-28\n",
      "date components: 28 6 2020\n",
      "today's weekday: 6\n"
     ]
    }
   ],
   "source": [
    "from datetime import date\n",
    "from datetime import time\n",
    "from datetime import datetime\n",
    "\n",
    "def main():\n",
    "    today = date.today()\n",
    "    print(\"today's date is\", today)\n",
    "    print(\"date components:\", today.day, today.month, today.year)\n",
    "    print(\"today's weekday:\", today.weekday())\n",
    "\n",
    "if __name__ == \"__main__\":\n",
    "    main()"
   ]
  },
  {
   "cell_type": "code",
   "execution_count": 20,
   "metadata": {},
   "outputs": [
    {
     "name": "stdout",
     "output_type": "stream",
     "text": [
      "The current date and time is 2020-06-28 10:37:45.670950\n",
      "The current time is 10:37:45.670950\n"
     ]
    }
   ],
   "source": [
    "def main():\n",
    "    today = datetime.now()\n",
    "    t = datetime.time(datetime.now())\n",
    "    print(\"The current date and time is\", today)\n",
    "    print(\"The current time is\", t)\n",
    "if __name__ == \"__main__\":\n",
    "    main()"
   ]
  },
  {
   "cell_type": "code",
   "execution_count": 22,
   "metadata": {},
   "outputs": [
    {
     "name": "stdout",
     "output_type": "stream",
     "text": [
      "Today is day number 6\n",
      "which is a sunday\n"
     ]
    }
   ],
   "source": [
    "def main():\n",
    "    today = datetime.now()\n",
    "    wd = date.weekday(today)\n",
    "    days = [\"monday\", \"tuesday\", \"wednesday\", \"thursday\", \"friday\", \"saturday\", \"sunday\"]\n",
    "    print(\"Today is day number %d\" % wd)\n",
    "    print(\"which is a \" + days[wd] )\n",
    "if __name__ == \"__main__\":\n",
    "    main()"
   ]
  },
  {
   "cell_type": "code",
   "execution_count": 50,
   "metadata": {},
   "outputs": [
    {
     "name": "stdout",
     "output_type": "stream",
     "text": [
      "2020-06-28\n",
      "Sun, 28 June, 20\n",
      "Sunday, 28 June, 2020\n",
      "Sun Jun 28 11:07:54 2020\n",
      "06/28/20\n",
      "11:07:54\n",
      "11:07:54 AM\n",
      "11:07\n"
     ]
    }
   ],
   "source": [
    "from datetime import datetime\n",
    "def main():\n",
    "    now = datetime.now()\n",
    "    print(now.strftime(\"%Y-%m-%d\"))\n",
    "    print(now.strftime(\"%a, %d %B, %y\"))\n",
    "    print(now.strftime(\"%A, %d %B, %Y\"))\n",
    "    print(now.strftime(\"%c\"))\n",
    "    print(now.strftime(\"%x\"))\n",
    "    print(now.strftime(\"%X\"))\n",
    "    print(now.strftime(\"%I:%M:%S %p\"))\n",
    "    print(now.strftime(\"%H:%M\"))\n",
    "    \n",
    "if __name__ == \"__main__\":\n",
    "    main()"
   ]
  },
  {
   "cell_type": "code",
   "execution_count": 63,
   "metadata": {},
   "outputs": [
    {
     "name": "stdout",
     "output_type": "stream",
     "text": [
      "365 days, 8:15:00\n",
      "today is: 2020-06-28 11:14:19.947482\n",
      "365 days from now it will be: 2021-06-28 11:14:19.948481\n"
     ]
    }
   ],
   "source": [
    "#from datetime import timedelta\n",
    "#from datetime import datetime\n",
    "\n",
    "print(timedelta(days=365, hours=8, minutes=15))\n",
    "print(\"today is: \" + str(datetime.now()))\n",
    "print(\"365 days from now it will be:\", str(datetime.now()+ timedelta(days=365)))"
   ]
  },
  {
   "cell_type": "code",
   "execution_count": 69,
   "metadata": {},
   "outputs": [
    {
     "name": "stdout",
     "output_type": "stream",
     "text": [
      "2020-06-28\n",
      "2020-01-01\n",
      "New year day is already went by 179 days ago\n"
     ]
    }
   ],
   "source": [
    "today = date.today()\n",
    "print(today)\n",
    "nyd = date(today.year, 1, 1)\n",
    "print(nyd)\n",
    "if nyd < today:\n",
    "    print(\"New year day is already went by %d days ago\" % ((today - nyd).days))"
   ]
  },
  {
   "cell_type": "code",
   "execution_count": null,
   "metadata": {},
   "outputs": [],
   "source": []
  }
 ],
 "metadata": {
  "kernelspec": {
   "display_name": "Python 3",
   "language": "python",
   "name": "python3"
  },
  "language_info": {
   "codemirror_mode": {
    "name": "ipython",
    "version": 3
   },
   "file_extension": ".py",
   "mimetype": "text/x-python",
   "name": "python",
   "nbconvert_exporter": "python",
   "pygments_lexer": "ipython3",
   "version": "3.7.6"
  }
 },
 "nbformat": 4,
 "nbformat_minor": 4
}
