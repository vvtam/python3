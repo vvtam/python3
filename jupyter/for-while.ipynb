{
 "cells": [
  {
   "cell_type": "code",
   "execution_count": 2,
   "metadata": {},
   "outputs": [
    {
     "name": "stdout",
     "output_type": "stream",
     "text": [
      "0\n",
      "1\n",
      "2\n",
      "3\n"
     ]
    }
   ],
   "source": [
    "#\n",
    "#Example file for working with loops\n",
    "#\n",
    "x=0\n",
    "#define a while loop\n",
    "while(x <4):\n",
    "\tprint(x)\n",
    "\tx = x+1"
   ]
  },
  {
   "cell_type": "code",
   "execution_count": 7,
   "metadata": {},
   "outputs": [
    {
     "name": "stdout",
     "output_type": "stream",
     "text": [
      "2\n",
      "3\n",
      "4\n",
      "5\n",
      "6\n"
     ]
    }
   ],
   "source": [
    "#\n",
    "#Example file for working with loops\n",
    "#\n",
    "x=0\n",
    "#define a while loop\n",
    "#\twhile(x <4):\n",
    "#\t\tprint x\n",
    "#\t\tx = x+1\n",
    "\n",
    "#Define a for loop \n",
    "for x in range(2,7):\n",
    "\tprint(x)"
   ]
  },
  {
   "cell_type": "code",
   "execution_count": 4,
   "metadata": {},
   "outputs": [
    {
     "name": "stdout",
     "output_type": "stream",
     "text": [
      "Jan\n",
      "Feb\n",
      "Mar\n",
      "April\n",
      "May\n",
      "June\n"
     ]
    }
   ],
   "source": [
    "#use a for loop over a collection\n",
    "Months = [\"Jan\",\"Feb\",\"Mar\",\"April\",\"May\",\"June\"]\n",
    "for m in Months:\n",
    "\tprint(m)"
   ]
  },
  {
   "cell_type": "code",
   "execution_count": 6,
   "metadata": {},
   "outputs": [
    {
     "name": "stdout",
     "output_type": "stream",
     "text": [
      "10\n",
      "11\n",
      "12\n",
      "13\n",
      "14\n"
     ]
    }
   ],
   "source": [
    "#use a for loop over a collection\n",
    "\t#Months = [\"Jan\",\"Feb\",\"Mar\",\"April\",\"May\",\"June\"]\n",
    "\t#for m in Months:\n",
    "\t\t#print m\n",
    "\t\t\n",
    "# use the break and continue statements\n",
    "for x in range (10,20):\n",
    "    if (x == 15): break\n",
    "\t#if (x % 2 == 0) : continue\n",
    "\tprint(x)"
   ]
  },
  {
   "cell_type": "code",
   "execution_count": 8,
   "metadata": {},
   "outputs": [
    {
     "name": "stdout",
     "output_type": "stream",
     "text": [
      "11\n",
      "12\n",
      "13\n",
      "14\n",
      "16\n",
      "17\n",
      "18\n",
      "19\n"
     ]
    }
   ],
   "source": [
    "#use a for loop over a collection\n",
    "\t#Months = [\"Jan\",\"Feb\",\"Mar\",\"April\",\"May\",\"June\"]\n",
    "\t#for m in Months:\n",
    "\t\t#print m\n",
    "\t\t\n",
    "# use the break and continue statements\n",
    "for x in range (10,20):\n",
    "\t\t\t#if (x == 15): break\n",
    "\t\t\tif (x % 5 == 0) : continue\n",
    "\t\t\tprint(x)"
   ]
  },
  {
   "cell_type": "code",
   "execution_count": 9,
   "metadata": {},
   "outputs": [
    {
     "name": "stdout",
     "output_type": "stream",
     "text": [
      "0 Jan\n",
      "1 Feb\n",
      "2 Mar\n",
      "3 April\n",
      "4 May\n",
      "5 June\n"
     ]
    }
   ],
   "source": [
    "#use a for loop over a collection\n",
    "Months = [\"Jan\",\"Feb\",\"Mar\",\"April\",\"May\",\"June\"]\n",
    "for i, m in enumerate (Months):\n",
    "\t\tprint(i,m)\n",
    "\t\t\n",
    "# use the break and continue statements\n",
    "\t\t\n",
    "\t\t#for x in range (10,20):\n",
    "\t\t#if (x == 15): break\n",
    "\t\t#if (x % 5 == 0) : continue\n",
    "\t\t#print x"
   ]
  },
  {
   "cell_type": "code",
   "execution_count": 10,
   "metadata": {},
   "outputs": [
    {
     "name": "stdout",
     "output_type": "stream",
     "text": [
      "guru99 1\n",
      "guru99 2\n",
      "guru99 3\n"
     ]
    }
   ],
   "source": [
    "for i in '123':\n",
    " print (\"guru99\",i,)"
   ]
  },
  {
   "cell_type": "code",
   "execution_count": 15,
   "metadata": {},
   "outputs": [
    {
     "name": "stdout",
     "output_type": "stream",
     "text": [
      "Guru99\n",
      "Software Testing: Testing is fun\n"
     ]
    }
   ],
   "source": [
    "class myClass():\n",
    "    def method1 (self):\n",
    "        print (\"Guru99\")\n",
    "    def method2 (self,someString): \n",
    "        print (\"Software Testing:\" + someString)\n",
    "        \n",
    "c = myClass()\n",
    "c.method1()\n",
    "c.method2(\" Testing is fun\")"
   ]
  },
  {
   "cell_type": "code",
   "execution_count": 16,
   "metadata": {},
   "outputs": [
    {
     "name": "stdout",
     "output_type": "stream",
     "text": [
      "Guru99\n",
      "Software Testing: Testing is fun\n"
     ]
    }
   ],
   "source": [
    "# Example file for working with classes\n",
    "class myClass():\n",
    "  def method1(self):\n",
    "      print(\"Guru99\")\n",
    "        \n",
    "  def method2(self,someString):    \n",
    "      print(\"Software Testing:\" + someString)\n",
    "  \n",
    "      \n",
    "def main():           \n",
    "  # exercise the class methods\n",
    "  c = myClass ()\n",
    "  c.method1()\n",
    "  c.method2(\" Testing is fun\")\n",
    "  \n",
    "if __name__== \"__main__\":\n",
    "  main()"
   ]
  },
  {
   "cell_type": "code",
   "execution_count": 20,
   "metadata": {},
   "outputs": [
    {
     "name": "stdout",
     "output_type": "stream",
     "text": [
      "Guru99\n",
      "childClass Method1\n",
      "childClass method2\n"
     ]
    }
   ],
   "source": [
    "# Example file for working with classes\n",
    "class myClass():\n",
    "  def method1(self):\n",
    "      print(\"Guru99\")\n",
    "        \n",
    "  \n",
    "class childClass(myClass):\n",
    "  def method1(self):\n",
    "        myClass.method1(self);\n",
    "        print (\"childClass Method1\")\n",
    "        \n",
    "  def method2(self):\n",
    "        print(\"childClass method2\")     \n",
    "         \n",
    "def main():           \n",
    "  # exercise the class methods\n",
    "  c2 = childClass()\n",
    "  c2.method1()\n",
    "  c2.method2()\n",
    "\n",
    "if __name__== \"__main__\":\n",
    "  main()"
   ]
  },
  {
   "cell_type": "code",
   "execution_count": 21,
   "metadata": {},
   "outputs": [
    {
     "name": "stdout",
     "output_type": "stream",
     "text": [
      "Welcome to Guru99, Alex\n"
     ]
    }
   ],
   "source": [
    "class User:\n",
    "    name = \"\"\n",
    "\n",
    "    def __init__(self, name):\n",
    "        self.name = name\n",
    "\n",
    "    def sayHello(self):\n",
    "        print(\"Welcome to Guru99, \" + self.name)\n",
    "\n",
    "User1 = User(\"Alex\")\n",
    "User1.sayHello()"
   ]
  },
  {
   "cell_type": "code",
   "execution_count": null,
   "metadata": {},
   "outputs": [],
   "source": []
  }
 ],
 "metadata": {
  "kernelspec": {
   "display_name": "Python 3",
   "language": "python",
   "name": "python3"
  },
  "language_info": {
   "codemirror_mode": {
    "name": "ipython",
    "version": 3
   },
   "file_extension": ".py",
   "mimetype": "text/x-python",
   "name": "python",
   "nbconvert_exporter": "python",
   "pygments_lexer": "ipython3",
   "version": "3.7.6"
  }
 },
 "nbformat": 4,
 "nbformat_minor": 4
}
