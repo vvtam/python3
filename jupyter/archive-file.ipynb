{
 "cells": [
  {
   "cell_type": "code",
   "execution_count": 2,
   "metadata": {},
   "outputs": [],
   "source": [
    "import os\n",
    "import shutil\n",
    "from os import path\n",
    "from zipfile import ZipFile\n",
    "from shutil import make_archive\n",
    "\n",
    "if path.exists(\"example-file.txt\"):\n",
    "    src = path.realpath(\"example-file.txt\")\n",
    "    root_dir, tail = path.split(src)\n",
    "    shutil.make_archive(\"example-file\", \"zip\", root_dir)\n",
    "    "
   ]
  },
  {
   "cell_type": "code",
   "execution_count": 3,
   "metadata": {},
   "outputs": [],
   "source": [
    "\n",
    "from zipfile import ZipFile\n",
    "from shutil import make_archive\n",
    "\n",
    "with ZipFile(\"example-file.zip\", \"w\") as newzip:\n",
    "    newzip.write(\"example-file.txt\")\n",
    "    newzip.write(\"example-file-2.txt\")\n",
    "    "
   ]
  },
  {
   "cell_type": "code",
   "execution_count": null,
   "metadata": {},
   "outputs": [],
   "source": []
  }
 ],
 "metadata": {
  "kernelspec": {
   "display_name": "Python 3",
   "language": "python",
   "name": "python3"
  },
  "language_info": {
   "codemirror_mode": {
    "name": "ipython",
    "version": 3
   },
   "file_extension": ".py",
   "mimetype": "text/x-python",
   "name": "python",
   "nbconvert_exporter": "python",
   "pygments_lexer": "ipython3",
   "version": "3.7.6"
  }
 },
 "nbformat": 4,
 "nbformat_minor": 4
}
