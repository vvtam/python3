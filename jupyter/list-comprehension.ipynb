{
 "cells": [
  {
   "cell_type": "code",
   "execution_count": 43,
   "metadata": {},
   "outputs": [
    {
     "name": "stdout",
     "output_type": "stream",
     "text": [
      "[5, 7, 8, 9, 20]\n"
     ]
    }
   ],
   "source": [
    "list1 = [\"physics\", \"chemistry\", \"mathematics\"]\n",
    "list1[0] = \"biology\"\n",
    "print(list)"
   ]
  },
  {
   "cell_type": "code",
   "execution_count": 44,
   "metadata": {},
   "outputs": [
    {
     "name": "stdout",
     "output_type": "stream",
     "text": [
      "[2, 10, 9, 20, 27]\n"
     ]
    }
   ],
   "source": [
    "integers = [2, 5, 9, 20, 27]\n",
    "integers[1] = 10\n",
    "print(integers)"
   ]
  },
  {
   "cell_type": "code",
   "execution_count": 45,
   "metadata": {},
   "outputs": [
    {
     "name": "stdout",
     "output_type": "stream",
     "text": [
      "[2, 5, 9, 20, 30.5]\n"
     ]
    }
   ],
   "source": [
    "integers = [2, 5, 9, 20, 27]\n",
    "integers[-1] = 30.5\n",
    "print(integers)"
   ]
  },
  {
   "cell_type": "code",
   "execution_count": 46,
   "metadata": {},
   "outputs": [
    {
     "name": "stdout",
     "output_type": "stream",
     "text": [
      "[5, 7, 8, 9, 20]\n"
     ]
    }
   ],
   "source": [
    "list2 = [3, 5, 7, 8, 9, 20]\n",
    "#list.remove(3)\n",
    "#list.pop(0)\n",
    "del list2[0]\n",
    "print(list2)"
   ]
  },
  {
   "cell_type": "code",
   "execution_count": 47,
   "metadata": {},
   "outputs": [
    {
     "name": "stdout",
     "output_type": "stream",
     "text": [
      "[3, 5, 7, 8, 9, 20, 3.33]\n"
     ]
    }
   ],
   "source": [
    "list_1 = [3, 5, 7, 8, 9, 20]\n",
    "list_1.append(3.33)\n",
    "print(list_1)"
   ]
  },
  {
   "cell_type": "code",
   "execution_count": 48,
   "metadata": {},
   "outputs": [
    {
     "name": "stdout",
     "output_type": "stream",
     "text": [
      "[3, 5, 7, 8, 9, 20, 3.33, 'cats']\n"
     ]
    }
   ],
   "source": [
    "list_1.append(\"cats\")\n",
    "print(list_1)\n",
    "#print(max(list_1))"
   ]
  },
  {
   "cell_type": "code",
   "execution_count": 49,
   "metadata": {},
   "outputs": [
    {
     "name": "stdout",
     "output_type": "stream",
     "text": [
      "4\n"
     ]
    }
   ],
   "source": [
    "numbers = [2, 5, 7, 9]\n",
    "print(len(numbers))"
   ]
  },
  {
   "cell_type": "code",
   "execution_count": 50,
   "metadata": {},
   "outputs": [
    {
     "name": "stdout",
     "output_type": "stream",
     "text": [
      "9\n",
      "2\n"
     ]
    }
   ],
   "source": [
    "numbers = [2, 5, 7, 9]\n",
    "print(max(numbers))\n",
    "numbers = [2, 5, 7, 9]\n",
    "print(min(numbers))"
   ]
  },
  {
   "cell_type": "code",
   "execution_count": 60,
   "metadata": {},
   "outputs": [
    {
     "name": "stdout",
     "output_type": "stream",
     "text": [
      "['cat', 'dog', 'fish', 'cow']\n"
     ]
    }
   ],
   "source": [
    "animals = (\"cat\", \"dog\", \"fish\", \"cow\")\n",
    "print(list(animals))"
   ]
  },
  {
   "cell_type": "code",
   "execution_count": 61,
   "metadata": {},
   "outputs": [
    {
     "name": "stdout",
     "output_type": "stream",
     "text": [
      "[2, 5, 7, 9, 15]\n"
     ]
    }
   ],
   "source": [
    "numbers = [2, 5, 7, 9]\n",
    "numbers.append(15)\n",
    "print(numbers)"
   ]
  },
  {
   "cell_type": "code",
   "execution_count": 62,
   "metadata": {},
   "outputs": [
    {
     "name": "stdout",
     "output_type": "stream",
     "text": [
      "[2, 5, 9, 15]\n"
     ]
    }
   ],
   "source": [
    "numbers = [2, 5, 7, 9, 15]\n",
    "numbers.pop(2)\n",
    "print(numbers)"
   ]
  },
  {
   "cell_type": "code",
   "execution_count": 64,
   "metadata": {},
   "outputs": [
    {
     "name": "stdout",
     "output_type": "stream",
     "text": [
      "[5, 7, 2, 9]\n"
     ]
    }
   ],
   "source": [
    "values = [2, 5, 7, 2, 9]\n",
    "values.remove(2)\n",
    "print(values)"
   ]
  },
  {
   "cell_type": "code",
   "execution_count": 65,
   "metadata": {},
   "outputs": [
    {
     "name": "stdout",
     "output_type": "stream",
     "text": [
      "[10, 7, 5, 2]\n"
     ]
    }
   ],
   "source": [
    "values = [2, 5, 7, 10]\n",
    "values.reverse()\n",
    "print(values)"
   ]
  },
  {
   "cell_type": "code",
   "execution_count": 66,
   "metadata": {},
   "outputs": [
    {
     "name": "stdout",
     "output_type": "stream",
     "text": [
      "2\n"
     ]
    }
   ],
   "source": [
    "animals = ['cat', 'dog', 'fish', 'cow', 'goat']\n",
    "fish_index = animals.index('fish')\n",
    "print(fish_index)"
   ]
  },
  {
   "cell_type": "code",
   "execution_count": 72,
   "metadata": {},
   "outputs": [
    {
     "name": "stdout",
     "output_type": "stream",
     "text": [
      "17\n"
     ]
    }
   ],
   "source": [
    "values = [2, 5, 10]\n",
    "sum_of_values = sum(values)\n",
    "print(sum_of_values)"
   ]
  },
  {
   "cell_type": "code",
   "execution_count": 73,
   "metadata": {},
   "outputs": [
    {
     "name": "stdout",
     "output_type": "stream",
     "text": [
      "[1, 3, 5, 7, 9]\n"
     ]
    }
   ],
   "source": [
    "values = [1, 7, 9, 3, 5]\n",
    "# To sort the values in ascending order:\n",
    "values.sort()\n",
    "print(values)"
   ]
  },
  {
   "cell_type": "code",
   "execution_count": 74,
   "metadata": {},
   "outputs": [
    {
     "name": "stdout",
     "output_type": "stream",
     "text": [
      "[50, 14, 10, 7, 2]\n"
     ]
    }
   ],
   "source": [
    "values = [2, 10, 7, 14, 50]\n",
    "# To sort the values in descending order:\n",
    "values.sort(reverse = True)\n",
    "print(values)"
   ]
  },
  {
   "cell_type": "code",
   "execution_count": 78,
   "metadata": {},
   "outputs": [
    {
     "name": "stdout",
     "output_type": "stream",
     "text": [
      "['cat', 'goat', 'is', 'mammal']\n",
      "['is', 'cat', 'goat', 'mammal']\n"
     ]
    }
   ],
   "source": [
    "# to sort the list by length of the elements\n",
    "strings2 = ['cat', 'mammal', 'goat', 'is']\n",
    "strings2.sort()\n",
    "print(strings2)\n",
    "strings2.sort(key=len)\n",
    "print(strings2)"
   ]
  },
  {
   "cell_type": "code",
   "execution_count": 79,
   "metadata": {},
   "outputs": [
    {
     "name": "stdout",
     "output_type": "stream",
     "text": [
      "15\n",
      "25\n",
      "35\n",
      "45\n",
      "55\n",
      "65\n",
      "75\n"
     ]
    }
   ],
   "source": [
    "list = [10, 20, 30, 40, 50, 60, 70]\n",
    "for elem in list:\n",
    "    elem = elem + 5\n",
    "    print(elem)"
   ]
  },
  {
   "cell_type": "code",
   "execution_count": 82,
   "metadata": {},
   "outputs": [
    {
     "name": "stdout",
     "output_type": "stream",
     "text": [
      "[40, 50, 60, 70]\n"
     ]
    }
   ],
   "source": [
    "list = [10, 20, 30, 40, 50, 60, 70]\n",
    "for elem in list[:3]:\n",
    "    list.remove(elem)\n",
    "print(list)"
   ]
  },
  {
   "cell_type": "code",
   "execution_count": 94,
   "metadata": {},
   "outputs": [
    {
     "name": "stdout",
     "output_type": "stream",
     "text": [
      "[30, 40, 50, 60, 70]\n",
      "New List:[30, 40, 50, 60, 70]\n"
     ]
    }
   ],
   "source": [
    "list = [10, 20, 30, 40, 50, 60, 70]\n",
    "new_list = []\n",
    "for elem in list[2:]:\n",
    "    new_list.append(elem)\n",
    "print(new_list)\n",
    "print(\"New List:{}\".format(new_list))"
   ]
  },
  {
   "cell_type": "code",
   "execution_count": 96,
   "metadata": {},
   "outputs": [
    {
     "name": "stdout",
     "output_type": "stream",
     "text": [
      "[1, 4, 9, 16, 25, 36, 49, 64, 81]\n",
      "List of squares using list comprehension: [1, 4, 9, 16, 25, 36, 49, 64, 81]\n"
     ]
    }
   ],
   "source": [
    "list_of_squares = []\n",
    "for int in range(1, 10):\n",
    "    square = int ** 2\n",
    "    list_of_squares.append(square)\n",
    "print(list_of_squares)\n",
    "\n",
    "list_of_squares_2 = [int**2 for int in range(1, 10)]\n",
    "print('List of squares using list comprehension: {}'.format(list_of_squares_2))\n"
   ]
  },
  {
   "cell_type": "code",
   "execution_count": null,
   "metadata": {},
   "outputs": [],
   "source": []
  }
 ],
 "metadata": {
  "kernelspec": {
   "display_name": "Python 3",
   "language": "python",
   "name": "python3"
  },
  "language_info": {
   "codemirror_mode": {
    "name": "ipython",
    "version": 3
   },
   "file_extension": ".py",
   "mimetype": "text/x-python",
   "name": "python",
   "nbconvert_exporter": "python",
   "pygments_lexer": "ipython3",
   "version": "3.7.6"
  }
 },
 "nbformat": 4,
 "nbformat_minor": 4
}
