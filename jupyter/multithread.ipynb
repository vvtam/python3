{
 "cells": [
  {
   "cell_type": "code",
   "execution_count": 2,
   "metadata": {
    "scrolled": true
   },
   "outputs": [
    {
     "name": "stdout",
     "output_type": "stream",
     "text": [
      "Running First Thread\n",
      "\n",
      "Running Second Thread\n",
      "\n",
      "Running First Thread\n",
      "\n",
      "Running Third Thread\n",
      "\n",
      "Running First Thread\n",
      "\n",
      "Running Second Thread\n",
      "\n",
      "Running First Thread\n",
      "\n",
      "First Thread has finished execution\n",
      "Running Third Thread\n",
      "\n",
      "Running Second Thread\n",
      "\n",
      "Running Second Thread\n",
      "\n",
      "Second Thread has finished execution\n",
      "Running Third Thread\n",
      "\n",
      "Running Third Thread\n",
      "\n",
      "Third Thread has finished execution\n"
     ]
    }
   ],
   "source": [
    "import time\n",
    "import _thread\n",
    "\n",
    "def thread_test(name, wait):\n",
    "   i = 0\n",
    "   while i <= 3:\n",
    "      time.sleep(wait)\n",
    "      print(\"Running %s\\n\" %name)\n",
    "      i = i + 1\n",
    "\n",
    "   print(\"%s has finished execution\" %name)\n",
    "\n",
    "if __name__ == \"__main__\":\n",
    "    \n",
    "    _thread.start_new_thread(thread_test, (\"First Thread\", 1))\n",
    "    _thread.start_new_thread(thread_test, (\"Second Thread\", 2))\n",
    "    _thread.start_new_thread(thread_test, (\"Third Thread\", 3))"
   ]
  },
  {
   "cell_type": "code",
   "execution_count": 3,
   "metadata": {},
   "outputs": [
    {
     "name": "stdout",
     "output_type": "stream",
     "text": [
      "Running First Thread \n",
      "\n",
      "Running Second Thread \n",
      "Running First Thread \n",
      "\n",
      "\n",
      "Running Third Thread \n",
      "\n",
      "Running First Thread \n",
      "\n",
      "Running Second Thread \n",
      "Running First Thread \n",
      "\n",
      "\n",
      "Running First Thread \n",
      "\n",
      "First Thread has finished execution \n",
      "Running Third Thread \n",
      "\n",
      "Running Second Thread \n",
      "\n",
      "Running Second Thread \n",
      "\n",
      "Running Third Thread \n",
      "\n",
      "Running Second Thread \n",
      "\n",
      "Second Thread has finished execution \n",
      "Running Third Thread \n",
      "\n",
      "Running Third Thread \n",
      "\n",
      "Third Thread has finished execution \n"
     ]
    }
   ],
   "source": [
    "import time\n",
    "import threading\n",
    "\n",
    "class threadtester (threading.Thread):\n",
    "    def __init__(self, id, name, i):\n",
    "       threading.Thread.__init__(self)\n",
    "       self.id = id\n",
    "       self.name = name\n",
    "       self.i = i\n",
    "       \n",
    "    def run(self):\n",
    "       thread_test(self.name, self.i, 5)\n",
    "       print (\"%s has finished execution \" %self.name)\n",
    "\n",
    "def thread_test(name, wait, i):\n",
    "\n",
    "    while i:\n",
    "       time.sleep(wait)\n",
    "       print (\"Running %s \\n\" %name)\n",
    "       i = i - 1\n",
    "\n",
    "if __name__==\"__main__\":\n",
    "    thread1 = threadtester(1, \"First Thread\", 1)\n",
    "    thread2 = threadtester(2, \"Second Thread\", 2)\n",
    "    thread3 = threadtester(3, \"Third Thread\", 3)\n",
    "\n",
    "    thread1.start()\n",
    "    thread2.start()\n",
    "    thread3.start()\n",
    "\n",
    "    thread1.join()\n",
    "    thread2.join()\n",
    "    thread3.join()"
   ]
  },
  {
   "cell_type": "code",
   "execution_count": 4,
   "metadata": {},
   "outputs": [
    {
     "name": "stdout",
     "output_type": "stream",
     "text": [
      "lock acquired\n",
      "Executing the first funcion\n",
      "lock acquired\n",
      "Executing the first funcion\n",
      "lock acquired\n",
      "Executing the first funcion\n",
      "lock acquired\n",
      "Executing the first funcion\n",
      "lock acquired\n",
      "Executing the first funcion\n",
      "lock acquired\n",
      "Executing the second funcion\n",
      "lock acquired\n",
      "Executing the second funcion\n",
      "lock acquired\n",
      "Executing the second funcion\n",
      "lock acquired\n",
      "Executing the second funcion\n",
      "lock acquired\n",
      "Executing the second funcion\n"
     ]
    }
   ],
   "source": [
    "import threading\n",
    "\n",
    "lock = threading.Lock()\n",
    "\n",
    "def first_function():\n",
    "    for i in range(5):\n",
    "        lock.acquire()\n",
    "        print ('lock acquired')\n",
    "        print ('Executing the first funcion')\n",
    "        lock.release()\n",
    "\n",
    "def second_function():\n",
    "    for i in range(5):\n",
    "        lock.acquire()\n",
    "        print ('lock acquired')\n",
    "        print ('Executing the second funcion')\n",
    "        lock.release()\n",
    "\n",
    "if __name__==\"__main__\":\n",
    "    thread_one = threading.Thread(target=first_function)\n",
    "    thread_two = threading.Thread(target=second_function)\n",
    "\n",
    "    thread_one.start()\n",
    "    thread_two.start()\n",
    "\n",
    "    thread_one.join()\n",
    "    thread_two.join()"
   ]
  },
  {
   "cell_type": "code",
   "execution_count": null,
   "metadata": {},
   "outputs": [],
   "source": []
  }
 ],
 "metadata": {
  "kernelspec": {
   "display_name": "Python 3",
   "language": "python",
   "name": "python3"
  },
  "language_info": {
   "codemirror_mode": {
    "name": "ipython",
    "version": 3
   },
   "file_extension": ".py",
   "mimetype": "text/x-python",
   "name": "python",
   "nbconvert_exporter": "python",
   "pygments_lexer": "ipython3",
   "version": "3.7.6"
  }
 },
 "nbformat": 4,
 "nbformat_minor": 4
}
