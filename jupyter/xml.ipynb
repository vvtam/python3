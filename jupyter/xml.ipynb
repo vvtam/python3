{
 "cells": [
  {
   "cell_type": "code",
   "execution_count": 18,
   "metadata": {},
   "outputs": [
    {
     "name": "stdout",
     "output_type": "stream",
     "text": [
      "#document\n",
      "employee\n",
      "4 expertise:\n",
      "SQL\n",
      "Python\n",
      "Testing\n",
      "Business\n"
     ]
    }
   ],
   "source": [
    "import xml.dom.minidom\n",
    "\n",
    "doc = xml.dom.minidom.parse(\"Myxml.xml\")\n",
    "print(doc.nodeName)\n",
    "print(doc.firstChild.tagName)\n",
    "\n",
    "expertise = doc.getElementsByTagName(\"expertise\")\n",
    "print(\"%d expertise:\" % expertise.length)\n",
    "\n",
    "for skill in expertise:\n",
    "    print(skill.getAttribute(\"name\"))"
   ]
  },
  {
   "cell_type": "code",
   "execution_count": 19,
   "metadata": {},
   "outputs": [
    {
     "name": "stdout",
     "output_type": "stream",
     "text": [
      " \n",
      "5 expertise:\n",
      "SQL\n",
      "Python\n",
      "Testing\n",
      "Business\n",
      "BigData\n"
     ]
    }
   ],
   "source": [
    "newexpertise = doc.createElement(\"expertise\")\n",
    "newexpertise.setAttribute(\"name\", \"BigData\")\n",
    "doc.firstChild.appendChild(newexpertise)\n",
    "print(\" \")\n",
    "\n",
    "expertise = doc.getElementsByTagName(\"expertise\")\n",
    "print(\"%d expertise:\" % expertise.length)\n",
    "\n",
    "for skill in expertise:\n",
    "    print(skill.getAttribute(\"name\"))"
   ]
  },
  {
   "cell_type": "code",
   "execution_count": null,
   "metadata": {},
   "outputs": [],
   "source": []
  },
  {
   "cell_type": "code",
   "execution_count": null,
   "metadata": {},
   "outputs": [],
   "source": []
  },
  {
   "cell_type": "code",
   "execution_count": null,
   "metadata": {},
   "outputs": [],
   "source": []
  }
 ],
 "metadata": {
  "kernelspec": {
   "display_name": "Python 3",
   "language": "python",
   "name": "python3"
  },
  "language_info": {
   "codemirror_mode": {
    "name": "ipython",
    "version": 3
   },
   "file_extension": ".py",
   "mimetype": "text/x-python",
   "name": "python",
   "nbconvert_exporter": "python",
   "pygments_lexer": "ipython3",
   "version": "3.7.6"
  }
 },
 "nbformat": 4,
 "nbformat_minor": 4
}
